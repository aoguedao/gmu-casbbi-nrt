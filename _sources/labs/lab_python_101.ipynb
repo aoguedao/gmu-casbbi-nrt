{
 "cells": [
  {
   "cell_type": "markdown",
   "metadata": {},
   "source": [
    "# Activity - Python 101"
   ]
  },
  {
   "cell_type": "markdown",
   "metadata": {},
   "source": [
    "## Exercise 1\n",
    "\n",
    "__An approximation of $\\pi$:__\n",
    "\n",
    "In the 17th and 18th centuries, James Gregory and Gottfried Leibniz discovered an infinite series that can be used to calculate $\\pi$:\n",
    "\n",
    "$$\\pi  = 4(1-\\dfrac{1}{3} +\\dfrac{1}{5}-\\dfrac{1}{7} + ...) = 4 \\sum_{k=1}^{\\infty}\\dfrac{(-1)^{k+1}}{2k-1}$$\n",
    "\n",
    "Implement a function called `pi_approx` to estimate the value of $\\pi$ using the Leibniz method, where the argument must be an integer $n$ indicating the number of terms added, that is:\n",
    "\n",
    "$$\\pi \\approx 4 \\sum_{k=1}^{n}\\dfrac{(-1)^{k+1}}{2k-1} $$"
   ]
  },
  {
   "cell_type": "code",
   "execution_count": null,
   "metadata": {
    "tags": []
   },
   "outputs": [],
   "source": [
    "def pi_approx(n):\n",
    "    \"\"\"\n",
    "    Approximation of $\\pi$ using Leibniz's method.\n",
    "\n",
    "    Parameters\n",
    "    ----------\n",
    "    n : int\n",
    "        Number of terms added.\n",
    "\n",
    "    Returns\n",
    "    -------\n",
    "    output : float\n",
    "    \"\"\"\n",
    "\n",
    "    pi = #FIXME#  # Initialization\n",
    "    for k in range(#FIXME#):\n",
    "        numerator = #FIXME#\n",
    "        denominator = #FIXME#\n",
    "        pi +=   # Add numerator/denominator to total sum\n",
    "    return 4 * pi"
   ]
  },
  {
   "cell_type": "code",
   "execution_count": 2,
   "metadata": {
    "tags": []
   },
   "outputs": [
    {
     "data": {
      "text/plain": [
       "3.1315929035585537"
      ]
     },
     "execution_count": 2,
     "metadata": {},
     "output_type": "execute_result"
    }
   ],
   "source": [
    "pi_approx(100)"
   ]
  },
  {
   "cell_type": "markdown",
   "metadata": {},
   "source": [
    "Check your answer! `pi_approx(100)` must return 3.1315929035585537"
   ]
  },
  {
   "cell_type": "markdown",
   "metadata": {},
   "source": [
    "## Exercise 2\n",
    "\n",
    "Let $\\sigma(n)$ be defined as the sum of the proper divisors of $n$ (that is, less than $n$). [Amicable numbers](https://en.wikipedia.org/wiki/Amicable_numbers) are positive integers $n_1$ and $n_2$ such that the sum of the proper divisors of one is equal to the other number and vice versa, that is :\n",
    "\n",
    "$$\\sigma(n_1)=n_2 \\quad \\textrm{and} \\quad \\sigma(n_2)=n_1$$\n",
    "\n",
    "\n",
    "For example, the numbers 220 and 284 are friendly numbers.\n",
    "* Proper divisors of 220 are 1, 2, 4, 5, 10, 11, 20, 22, 44, 55, and 110, hence $\\sigma(220) = 1 + 2 + 4 + 5 + 10 + 11 + 20 + 22 + 44 + 55 + 110 = 284$.\n",
    "* Proper divisors of 284 are 1, 2, 4, 71 and 142, hence $\\sigma(284) = 1 + 2 + 4 + 71 + 142 = 220$.\n",
    "\n",
    "Implement the following functions:\n",
    "\n",
    "* `proper_divisors(n)` such that returns a `list` of the proper divisors of $n$.\n",
    "* `sigma(n)` such that it returns the value $\\sigma(n)$.\n",
    "* `friends(n, m)` such that it returns `True` if $n$ and $m$ are friendly numbers and `False` otherwise."
   ]
  },
  {
   "cell_type": "code",
   "execution_count": null,
   "metadata": {
    "tags": []
   },
   "outputs": [],
   "source": [
    "def proper_divisors(n):\n",
    "    proper_divisors = []\n",
    "    for i in range(#FIXME#)\n",
    "        if #FIXME#:  # Hint: Use modulus operation\n",
    "            proper_divisors.#FIXME#\n",
    "    return #FIXME#"
   ]
  },
  {
   "cell_type": "code",
   "execution_count": null,
   "metadata": {},
   "outputs": [],
   "source": [
    "proper_divisors(220)"
   ]
  },
  {
   "cell_type": "code",
   "execution_count": null,
   "metadata": {},
   "outputs": [],
   "source": [
    "def sigma(n):\n",
    "    proper_divisors_list = #FIXME#\n",
    "    sum = 0\n",
    "    for x in proper_divisors:\n",
    "        sum#FIXME#\n",
    "    return sum"
   ]
  },
  {
   "cell_type": "code",
   "execution_count": null,
   "metadata": {},
   "outputs": [],
   "source": [
    "sigma(220)"
   ]
  },
  {
   "cell_type": "code",
   "execution_count": null,
   "metadata": {},
   "outputs": [],
   "source": [
    "def amicables(n, m):\n",
    "    sigma_n = #FIXME#\n",
    "    sigma_m = #FIXME#\n",
    "    if #FIXME#:\n",
    "        return True\n",
    "    else:\n",
    "        return #FIXME#"
   ]
  },
  {
   "cell_type": "code",
   "execution_count": null,
   "metadata": {},
   "outputs": [],
   "source": [
    "n, m = 220, 284\n",
    "print(f\"Proper divisors of {n} are {proper_divisors(n)}, then sigma({n}) = {sigma(n)}\")\n",
    "print(f\"Proper divisors of {m} are {proper_divisors(m)}, then sigma({m}) = {sigma(m)}\")\n",
    "print(f\"Are 220 and 284 amicable numbers?: {amicables(n, m)}\")"
   ]
  }
 ],
 "metadata": {
  "kernelspec": {
   "display_name": "Python 3 (ipykernel)",
   "language": "python",
   "name": "python3"
  },
  "language_info": {
   "codemirror_mode": {
    "name": "ipython",
    "version": 3
   },
   "file_extension": ".py",
   "mimetype": "text/x-python",
   "name": "python",
   "nbconvert_exporter": "python",
   "pygments_lexer": "ipython3",
   "version": "3.11.0"
  },
  "execution": {
    "allow_errors": true
  }
 },
 "nbformat": 4,
 "nbformat_minor": 4
}
