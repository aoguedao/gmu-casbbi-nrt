{
 "cells": [
  {
   "attachments": {},
   "cell_type": "markdown",
   "metadata": {},
   "source": [
    "# Activity - Machine Learning - Introduction"
   ]
  },
  {
   "cell_type": "code",
   "execution_count": null,
   "metadata": {},
   "outputs": [],
   "source": [
    "import pandas as pd"
   ]
  },
  {
   "attachments": {},
   "cell_type": "markdown",
   "metadata": {},
   "source": [
    "In this activity you will try to classify the drug consumption using personal variables. Please work collaboratively, discuss your ideas and finally we will share results. "
   ]
  },
  {
   "cell_type": "code",
   "execution_count": null,
   "metadata": {},
   "outputs": [],
   "source": [
    "data = pd.read_csv(\n",
    "    \"https://archive.ics.uci.edu/ml/machine-learning-databases/00373/drug_consumption.data\",\n",
    "    names=[\n",
    "        \"age\",\n",
    "        \"gender\",\n",
    "        \"education\",\n",
    "        \"country\",\n",
    "        \"ethnicity\",\n",
    "        \"nscore\",\n",
    "        \"escore\",\n",
    "        \"oscore\",\n",
    "        \"ascore\",\n",
    "        \"cscore\",\n",
    "        \"impulsive\",\n",
    "        \"ss\",\n",
    "        \"alcohol\",\n",
    "        \"amphet\",\n",
    "        \"amyl\",\n",
    "        \"benzos\",\n",
    "        \"caff\",\n",
    "        \"cannabis\",\n",
    "        \"choc\",\n",
    "        \"coke\",\n",
    "        \"crack\",\n",
    "        \"ecstasy\",\n",
    "        \"heroin\",\n",
    "        \"ketamine\",\n",
    "        \"legalh\",\n",
    "        \"lsd\",\n",
    "        \"meth\",\n",
    "        \"mushrooms\",\n",
    "        \"nicotine\",\n",
    "        \"semer\",\n",
    "        \"vsa\"\n",
    "    ],\n",
    "    index_col=0\n",
    ")\n",
    "data"
   ]
  },
  {
   "attachments": {},
   "cell_type": "markdown",
   "metadata": {},
   "source": [
    "## Step 0: Explore the data"
   ]
  },
  {
   "attachments": {},
   "cell_type": "markdown",
   "metadata": {},
   "source": [
    "Please read the description of the data and its variables in the following link: https://archive-beta.ics.uci.edu/dataset/373/drug+consumption+quantified\n",
    "\n",
    "Feel free to do some descriptive statistics but don't spend more than 5 minutes."
   ]
  },
  {
   "attachments": {},
   "cell_type": "markdown",
   "metadata": {},
   "source": [
    "## Step 1: Prepare your data"
   ]
  },
  {
   "attachments": {},
   "cell_type": "markdown",
   "metadata": {},
   "source": [
    "### Step 1.1: Select a drug"
   ]
  },
  {
   "cell_type": "code",
   "execution_count": null,
   "metadata": {},
   "outputs": [],
   "source": [
    "y = data[\"nicotine\"]  # Change it for the drug you want to classify\n",
    "y"
   ]
  },
  {
   "attachments": {},
   "cell_type": "markdown",
   "metadata": {},
   "source": [
    "### Step 1.2: Select attributes"
   ]
  },
  {
   "attachments": {},
   "cell_type": "markdown",
   "metadata": {},
   "source": [
    "Feel free to erase any variable you think should not be consider for your machine learning algorithm."
   ]
  },
  {
   "cell_type": "code",
   "execution_count": null,
   "metadata": {},
   "outputs": [],
   "source": [
    "X = data.loc[\n",
    "    :,\n",
    "    [\n",
    "        \"age\",\n",
    "        \"gender\",\n",
    "        \"education\",\n",
    "        \"country\",\n",
    "        \"ethnicity\",\n",
    "        \"nscore\",\n",
    "        \"escore\",\n",
    "        \"oscore\",\n",
    "        \"ascore\",\n",
    "        \"cscore\",\n",
    "        \"impulsive\",\n",
    "        \"ss\"\n",
    "    ]\n",
    "]\n",
    "X"
   ]
  },
  {
   "attachments": {},
   "cell_type": "markdown",
   "metadata": {},
   "source": [
    "## Step 2: Select your classification model"
   ]
  },
  {
   "cell_type": "code",
   "execution_count": null,
   "metadata": {
    "tags": [
     "raises-exception"
    ]
   },
   "outputs": [],
   "source": [
    "from sklearn#FIX ME#"
   ]
  },
  {
   "cell_type": "code",
   "execution_count": null,
   "metadata": {
    "tags": [
     "raises-exception"
    ]
   },
   "outputs": [],
   "source": [
    "model = #FIX ME#"
   ]
  },
  {
   "attachments": {},
   "cell_type": "markdown",
   "metadata": {},
   "source": [
    "## Step 3: Train your model"
   ]
  },
  {
   "cell_type": "code",
   "execution_count": null,
   "metadata": {},
   "outputs": [],
   "source": [
    "model.fit(#FIX ME#)"
   ]
  },
  {
   "attachments": {},
   "cell_type": "markdown",
   "metadata": {
    "tags": [
     "raises-exception"
    ]
   },
   "source": [
    "## Step 4: Evaluate your model"
   ]
  },
  {
   "cell_type": "code",
   "execution_count": null,
   "metadata": {},
   "outputs": [],
   "source": [
    "from sklearn.metrics import ConfusionMatrixDisplay"
   ]
  },
  {
   "cell_type": "code",
   "execution_count": null,
   "metadata": {
    "tags": [
     "raises-exception"
    ]
   },
   "outputs": [],
   "source": [
    "ConfusionMatrixDisplay.from_estimator(model, X, y)"
   ]
  },
  {
   "cell_type": "markdown",
   "metadata": {},
   "source": [
    "## Optional: Train test"
   ]
  },
  {
   "cell_type": "markdown",
   "metadata": {},
   "source": [
    "Train your model with training data and compute the score using the test dataset. Feel free to do some hyper-optimization as well."
   ]
  },
  {
   "cell_type": "code",
   "execution_count": null,
   "metadata": {},
   "outputs": [],
   "source": [
    "from sklearn.model_selection import train_test_split\n",
    "\n",
    "X_train, X_test, y_train, y_test = train_test_split(X, y, test_size=0.25, random_state=42)"
   ]
  },
  {
   "cell_type": "code",
   "execution_count": null,
   "metadata": {},
   "outputs": [],
   "source": [
    "# YOU CAN DO IT! #"
   ]
  }
 ],
 "metadata": {
  "kernelspec": {
   "display_name": "sciml-edu",
   "language": "python",
   "name": "python3"
  },
  "language_info": {
   "codemirror_mode": {
    "name": "ipython",
    "version": 3
   },
   "file_extension": ".py",
   "mimetype": "text/x-python",
   "name": "python",
   "nbconvert_exporter": "python",
   "pygments_lexer": "ipython3",
   "version": "3.10.9"
  },
  "orig_nbformat": 4
 },
 "nbformat": 4,
 "nbformat_minor": 2
}
