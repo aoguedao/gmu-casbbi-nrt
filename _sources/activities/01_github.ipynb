{
 "cells": [
  {
   "attachments": {},
   "cell_type": "markdown",
   "metadata": {},
   "source": [
    "# Activity #01"
   ]
  },
  {
   "attachments": {},
   "cell_type": "markdown",
   "metadata": {},
   "source": [
    "1. Create a GitHub account in the following [link](https://github.com/join).\n",
    "1. Create a GitHub repository named `gmu_casbbi_nrt`. You can do it dirctly here https://github.com/new.\n",
    "1. Launch this file in Google Colab pressing the `Launch Botton` in the upper right corner and then select `Colab`.\n",
    "1. Modify the next cell with your answers.\n",
    "1. Run all the cells.\n",
    "1. Save the notebook as `about_me.ipynb` in your local files.\n",
    "1. Upload it to your GitHub repository you just created."
   ]
  },
  {
   "cell_type": "code",
   "execution_count": 3,
   "metadata": {},
   "outputs": [],
   "source": [
    "name = \"Alonso G. Ogueda-Oliva\"\n",
    "i_am_from = \"Valparaíso, Chile\"\n",
    "program = \"Mathematics Ph.D.\"\n",
    "about_me = \"I like hiking and biking\"\n",
    "fun_fact = \"Half of one of my teeth is fake because I fell out when I was a child\"\n",
    "reason_apply = \"I really enjoy working in interdisciplinary teams and learn about everything\""
   ]
  },
  {
   "cell_type": "code",
   "execution_count": 4,
   "metadata": {},
   "outputs": [
    {
     "name": "stdout",
     "output_type": "stream",
     "text": [
      "\n",
      "    My name is Alonso G. Ogueda-Oliva, I am from Valparaíso, Chile and I am enrolled in the Mathematics Ph.D. program at GMU.\n",
      "\n",
      "    I like hiking and biking. And a fun fact about me is that Half of one of my teeth is fake because I fell out when I was a child.\n",
      "\n",
      "    I applied to the CASBBI's NRT program because I really enjoy working in interdisciplinary teams and learn about everything.\n",
      "    \n"
     ]
    }
   ],
   "source": [
    "print(\n",
    "    f\"\"\"\n",
    "    My name is {name}, I am from {i_am_from} and I am enrolled in the {program} program at GMU.\n",
    "\n",
    "    {about_me}. And a fun fact about me is that {fun_fact}.\n",
    "\n",
    "    I applied to the CASBBI's NRT program because {reason_apply}.\n",
    "    \"\"\"\n",
    ")"
   ]
  }
 ],
 "metadata": {
  "kernelspec": {
   "display_name": "casbbi-nrt-ds",
   "language": "python",
   "name": "python3"
  },
  "language_info": {
   "codemirror_mode": {
    "name": "ipython",
    "version": 3
   },
   "file_extension": ".py",
   "mimetype": "text/x-python",
   "name": "python",
   "nbconvert_exporter": "python",
   "pygments_lexer": "ipython3",
   "version": "3.11.0"
  },
  "orig_nbformat": 4
 },
 "nbformat": 4,
 "nbformat_minor": 2
}
